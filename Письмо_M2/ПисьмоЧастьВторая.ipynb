{
 "cells": [
  {
   "cell_type": "markdown",
   "id": "68451a30",
   "metadata": {},
   "source": [
    "# Второе третье\n",
    "\n",
    "https://mail.yandex.ru/?uid=191623657#message/187743809466036378"
   ]
  },
  {
   "cell_type": "markdown",
   "id": "74f67fec",
   "metadata": {},
   "source": [
    "Прошу прощения, вот корректный комплект дисциплин:\n",
    "\n",
    "|Дисциплина|Направление|Профиль|\n",
    "|---|---|---|\n",
    "|Разработка программных модулей (ПМ.01; МДК.01.01)|09.02.07.|Программист|\n",
    "|Разработка мобильных приложений (ПМ.01; МДК.01.03)|09.02.07.|Программист|\n",
    "|Системное программирование (ПМ.01; МДК.01.04)|09.02.07.|Программист|"
   ]
  },
  {
   "cell_type": "code",
   "execution_count": null,
   "id": "6cfdc3f4",
   "metadata": {},
   "outputs": [],
   "source": []
  }
 ],
 "metadata": {
  "kernelspec": {
   "display_name": "Python 3 (ipykernel)",
   "language": "python",
   "name": "python3"
  },
  "language_info": {
   "codemirror_mode": {
    "name": "ipython",
    "version": 3
   },
   "file_extension": ".py",
   "mimetype": "text/x-python",
   "name": "python",
   "nbconvert_exporter": "python",
   "pygments_lexer": "ipython3",
   "version": "3.11.4"
  }
 },
 "nbformat": 4,
 "nbformat_minor": 5
}
