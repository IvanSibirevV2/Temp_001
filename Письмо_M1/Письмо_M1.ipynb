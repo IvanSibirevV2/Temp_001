{
 "cells": [
  {
   "cell_type": "markdown",
   "id": "68451a30",
   "metadata": {},
   "source": [
    "# Первое \n",
    "https://mail.yandex.ru/?uid=191623657#message/187743809466036379\n"
   ]
  },
  {
   "cell_type": "markdown",
   "id": "359d645b",
   "metadata": {},
   "source": [
    "Доброго дня! <br/>\n",
    "Продолжается работа по подготовке комплектов ФОСов. Будем очень признательны за содействие. <br/>\n",
    "Просим в срок до 9.11.2024 подготовить ФОСы по дисциплинам: <br/>\n",
    "\n",
    "|Дисциплина|Направление|Профиль|\n",
    "|---|---|---|\n",
    "|Администрирование информационных систем|09.03.02.|Разработка, сопровождение и обеспечение безопасности информационных систем|\n",
    "|Введение в объектно-ориентированное программирование|09.03.03.|Прикладная информатика в экономике|\n",
    "|Программирование под Android|09.03.02.|Разработка компьютерных игр, дополненной и виртуальной реальности|\n",
    "|Программирование под iOS|09.03.02.|Разработка компьютерных игр, дополненной и виртуальной реальности|\n",
    "|Программное обеспечение носимых устройств|09.04.03.|Управление цифровыми проектами, продуктами и инновациями|\n",
    "\n",
    "Количество тестов зависит от количества компетенций в дисциплине:"
   ]
  },
  {
   "attachments": {
    "image.png": {
     "image/png": "[encoded data removed]"
    }
   },
   "cell_type": "markdown",
   "id": "f88ff034",
   "metadata": {},
   "source": [
    "![image.png](attachment:image.png)\n",
    "\n",
    "ШАГ 4. КОМПЛЕКТ ОЦЕНОЧНЫХ МАТЕРИАЛОВ\n",
    "4.2 Обязательные тестовые задания для проведения текущего контроля успеваемости\n",
    "\n",
    "коЛИЧЕСтво тЕСтоВыХ задАНИЙ ЗАвиСИТ оТ КОЛИЧЕСтвА КОМПЕтЕНцИЙ, СФОРМИРОВАННЫХ В РАМКАХ ДИСЦИПЛИНЫ.\n",
    "\n",
    "Количество тестовых заданий закрытого типа (в совокупности должны раскрываться все компетенции и планируемые результаты обучения по дисциплине): 1 компетенция - минимум 50 тестовых заданий закрытого типа\n",
    "\n",
    "Количество тестовых заданий на последовательность и установление соответствия (в совокупности должны раскрываться все планируемые результаты обучения по дисциплине): 1 компетенция - минимум 30 тестовых заданий на последовательность и установление соответствия\n",
    "\n",
    "Количество тестовых заданий открытого типа (в совокупности должны раскрываться все планируемые результаты обучения по дисциплине): 1 компетенция - минимум 40 тестовых заданий открытого типа"
   ]
  },
  {
   "cell_type": "markdown",
   "id": "0c4c5211",
   "metadata": {},
   "source": [
    "Доброго дня! <br/>\n",
    "Продолжается работа по подготовке комплектов ФОСов. Будем очень признательны за содействие. <br/>\n",
    "Просим в срок до 9.11.2024 подготовить ФОСы по дисциплинам: <br/>\n",
    "\n",
    "\n",
    "\n",
    "\n",
    "Дисциплина\tНаправление\tПрофиль\n",
    "Администрирование информационных систем\t09.03.02.\tРазработка, сопровождение и обеспечение безопасности информационных систем\n",
    "Введение в объектно-ориентированное программирование\t09.03.03.\tПрикладная информатика в экономике\n",
    "Программирование под Android\t09.03.02.\tРазработка компьютерных игр, дополненной и виртуальной реальности\n",
    "Программирование под iOS\t09.03.02.\tРазработка компьютерных игр, дополненной и виртуальной реальности\n",
    "Программное обеспечение носимых устройств\t09.04.03.\tУправление цифровыми проектами, продуктами и инновациями\n",
    "\n",
    "Количество тестов зависит от количества компетенций в дисциплине:\n",
    "\n",
    "\n",
    "Таким образом, если у Вас в дисциплине 2 компетенции, нужно готовить 120*2 = 240 вопросов, из которых 100 будут закрытого типа, 60 на последовательсть и установление соответствия, 80 открытого типа.\n",
    "\n",
    "В каждом вопросе должно быть не менее 4 вариантов ответа. Намного больше тоже лучше не делать, чтобы не увеличивать искусственно объем работы.\n",
    "\n",
    "\n",
    "\n",
    "Прикрепляю шаблон для ОМ и презентацию с подробностями по методике заполнения.\n",
    "\n",
    " \n",
    "\n",
    "В случае, если у Вас несколько идентичных дисциплин - настоятельно рекомендуем проявить сознательность и оптимизировать свою работу.\n",
    "\n"
   ]
  },
  {
   "cell_type": "markdown",
   "id": "b26395e5",
   "metadata": {},
   "source": []
  },
  {
   "cell_type": "markdown",
   "id": "e7d45bcc",
   "metadata": {},
   "source": []
  },
  {
   "cell_type": "markdown",
   "id": "d09383e1",
   "metadata": {},
   "source": []
  },
  {
   "cell_type": "code",
   "execution_count": null,
   "id": "e02fbd3a",
   "metadata": {},
   "outputs": [],
   "source": []
  }
 ],
 "metadata": {
  "kernelspec": {
   "display_name": "Python 3 (ipykernel)",
   "language": "python",
   "name": "python3"
  },
  "language_info": {
   "codemirror_mode": {
    "name": "ipython",
    "version": 3
   },
   "file_extension": ".py",
   "mimetype": "text/x-python",
   "name": "python",
   "nbconvert_exporter": "python",
   "pygments_lexer": "ipython3",
   "version": "3.11.4"
  }
 },
 "nbformat": 4,
 "nbformat_minor": 5
}
